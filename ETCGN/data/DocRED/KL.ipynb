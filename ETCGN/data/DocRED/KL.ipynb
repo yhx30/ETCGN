{
 "cells": [
  {
   "cell_type": "code",
   "execution_count": 4,
   "metadata": {},
   "outputs": [],
   "source": [
    "import json\n",
    "import numpy as np"
   ]
  },
  {
   "cell_type": "code",
   "execution_count": 5,
   "metadata": {},
   "outputs": [],
   "source": [
    "path = \"/Users/yhx/Desktop/ETCGN-master/data/DocRED/\"\n",
    "mode = \"train_annotated\"\n",
    "tail = \".json\"\n",
    "f = open(path+mode+tail,'r', encoding='utf-8')\n",
    "docs = json.load(f)\n",
    "f.close()"
   ]
  },
  {
   "cell_type": "code",
   "execution_count": 7,
   "metadata": {},
   "outputs": [],
   "source": [
    "type2id = {\"BLANK\": 0, \"ORG\": 1, \"LOC\": 2, \"TIME\": 3, \"PER\": 4, \"MISC\": 5, \"NUM\": 6}\n",
    "id2type = [\"BLANK\", \"ORG\", \"LOC\", \"TIME\", \"PER\", \"MISC\", \"NUM\"]\n",
    "rel2id = {'P1376': 79, 'P607': 27, 'P136': 73, 'P137': 63, 'P131': 2, 'P527': 11, 'P1412': 38, 'P206': 33, 'P205': 77, 'P449': 52, 'P127': 34, 'P123': 49, 'P86': 66, 'P840': 85, 'P355': 72, 'P737': 93, 'P740': 84, 'P190': 94, 'P576': 71, 'P749': 68, 'P112': 65, 'P118': 40, 'P17': 1, 'P19': 14, 'P3373': 19, 'P6': 42, 'P276': 44, 'P1001': 24, 'P580': 62, 'P582': 83, 'P585': 64, 'P463': 18, 'P676': 87, 'P674': 46, 'P264': 10, 'P108': 43, 'P102': 17, 'P25': 81, 'P27': 3, 'P26': 26, 'P20': 37, 'P22': 30, 'Na': 0, 'P807': 95, 'P800': 51, 'P279': 78, 'P1336': 88, 'P577': 5, 'P570': 8, 'P571': 15, 'P178': 36, 'P179': 55, 'P272': 75, 'P170': 35, 'P171': 80, 'P172': 76, 'P175': 6, 'P176': 67, 'P39': 91, 'P30': 21, 'P31': 60, 'P36': 70, 'P37': 58, 'P35': 54, 'P400': 31, 'P403': 61, 'P361': 12, 'P364': 74, 'P569': 7, 'P710': 41, 'P1344': 32, 'P488': 82, 'P241': 59, 'P162': 57, 'P161': 9, 'P166': 47, 'P40': 20, 'P1441': 23, 'P156': 45, 'P155': 39, 'P150': 4, 'P551': 90, 'P706': 56, 'P159': 29, 'P495': 13, 'P58': 53, 'P194': 48, 'P54': 16, 'P57': 28, 'P50': 22, 'P1366': 86, 'P1365': 92, 'P937': 69, 'P140': 50, 'P69': 25, 'P1198': 96, 'P1056': 89}\n",
    "rel2info = {'Na':'Na','P6': 'head of government', 'P17': 'country', 'P19': 'place of birth', 'P20': 'place of death', 'P22': 'father', 'P25': 'mother', 'P26': 'spouse', 'P27': 'country of citizenship', 'P30': 'continent', 'P31': 'instance of', 'P35': 'head of state', 'P36': 'capital', 'P37': 'official language', 'P39': 'position held', 'P40': 'child', 'P50': 'author', 'P54': 'member of sports team', 'P57': 'director', 'P58': 'screenwriter', 'P69': 'educated at', 'P86': 'composer', 'P102': 'member of political party', 'P108': 'employer', 'P112': 'founded by', 'P118': 'league', 'P123': 'publisher', 'P127': 'owned by', 'P131': 'located in the administrative territorial entity', 'P136': 'genre', 'P137': 'operator', 'P140': 'religion', 'P150': 'contains administrative territorial entity', 'P155': 'follows', 'P156': 'followed by', 'P159': 'headquarters location', 'P161': 'cast member', 'P162': 'producer', 'P166': 'award received', 'P170': 'creator', 'P171': 'parent taxon', 'P172': 'ethnic group', 'P175': 'performer', 'P176': 'manufacturer', 'P178': 'developer', 'P179': 'series', 'P190': 'sister city', 'P194': 'legislative body', 'P205': 'basin country', 'P206': 'located in or next to body of water', 'P241': 'military branch', 'P264': 'record label', 'P272': 'production company', 'P276': 'location', 'P279': 'subclass of', 'P355': 'subsidiary', 'P361': 'part of', 'P364': 'original language of work', 'P400': 'platform', 'P403': 'mouth of the watercourse', 'P449': 'original network', 'P463': 'member of', 'P488': 'chairperson', 'P495': 'country of origin', 'P527': 'has part', 'P551': 'residence', 'P569': 'date of birth', 'P570': 'date of death', 'P571': 'inception', 'P576': 'dissolved, abolished or demolished', 'P577': 'publication date', 'P580': 'start time', 'P582': 'end time', 'P585': 'point in time', 'P607': 'conflict', 'P674': 'characters', 'P676': 'lyrics by', 'P706': 'located on terrain feature', 'P710': 'participant', 'P737': 'influenced by', 'P740': 'location of formation', 'P749': 'parent organization', 'P800': 'notable work', 'P807': 'separated from', 'P840': 'narrative location', 'P937': 'work location', 'P1001': 'applies to jurisdiction', 'P1056': 'product or material produced', 'P1198': 'unemployment rate', 'P1336': 'territory claimed by', 'P1344': 'participant of', 'P1365': 'replaces', 'P1366': 'replaced by', 'P1376': 'capital of', 'P1412': 'languages spoken, written or signed', 'P1441': 'present in work', 'P3373': 'sibling'}\n",
    "id2rel = ['Na', 'P17', 'P131', 'P27', 'P150', 'P577', 'P175', 'P569', 'P570', 'P161', 'P264', 'P527', 'P361', 'P495', 'P19', 'P571', 'P54', 'P102', 'P463', 'P3373', 'P40', 'P30', 'P50', 'P1441', 'P1001', 'P69', 'P26', 'P607', 'P57', 'P159', 'P22', 'P400', 'P1344', 'P206', 'P127', 'P170', 'P178', 'P20', 'P1412', 'P155', 'P118', 'P710', 'P6', 'P108', 'P276', 'P156', 'P674', 'P166', 'P194', 'P123', 'P140', 'P800', 'P449', 'P58', 'P35', 'P179', 'P706', 'P162', 'P37', 'P241', 'P31', 'P403', 'P580', 'P137', 'P585', 'P112', 'P86', 'P176', 'P749', 'P937', 'P36', 'P576', 'P355', 'P136', 'P364', 'P272', 'P172', 'P205', 'P279', 'P1376', 'P171', 'P25', 'P488', 'P582', 'P740', 'P840', 'P1366', 'P676', 'P1336', 'P1056', 'P551', 'P39', 'P1365', 'P737', 'P190', 'P807', 'P1198']\n",
    "id2info = ['Na', 'country', 'located in the administrative territorial entity', 'country of citizenship', 'contains administrative territorial entity', 'publication date', 'performer', 'date of birth', 'date of death', 'cast member', 'record label', 'has part', 'part of', 'country of origin', 'place of birth', 'inception', 'member of sports team', 'member of political party', 'member of', 'sibling', 'child', 'continent', 'author', 'present in work', 'applies to jurisdiction', 'educated at', 'spouse', 'conflict', 'director', 'headquarters location', 'father', 'platform', 'participant of', 'located in or next to body of water', 'owned by', 'creator', 'developer', 'place of death', 'languages spoken, written or signed', 'follows', 'league', 'participant', 'head of government', 'employer', 'location', 'followed by', 'characters', 'award received', 'legislative body', 'publisher', 'religion', 'notable work', 'original network', 'screenwriter', 'head of state', 'series', 'located on terrain feature', 'producer', 'official language', 'military branch', 'instance of', 'mouth of the watercourse', 'start time', 'operator', 'point in time', 'founded by', 'composer', 'manufacturer', 'parent organization', 'work location', 'capital', 'dissolved, abolished or demolished', 'subsidiary', 'genre', 'original language of work', 'production company', 'ethnic group', 'basin country', 'subclass of', 'capital of', 'parent taxon', 'mother', 'chairperson', 'end time', 'location of formation', 'narrative location', 'replaced by', 'lyrics by', 'territory claimed by', 'product or material produced', 'residence', 'position held', 'replaces', 'influenced by', 'sister city', 'separated from', 'unemployment rate']\n",
    "info2id = {'Na': 0, 'country': 1, 'located in the administrative territorial entity': 2, 'country of citizenship': 3, 'contains administrative territorial entity': 4, 'publication date': 5, 'performer': 6, 'date of birth': 7, 'date of death': 8, 'cast member': 9, 'record label': 10, 'has part': 11, 'part of': 12, 'country of origin': 13, 'place of birth': 14, 'inception': 15, 'member of sports team': 16, 'member of political party': 17, 'member of': 18, 'sibling': 19, 'child': 20, 'continent': 21, 'author': 22, 'present in work': 23, 'applies to jurisdiction': 24, 'educated at': 25, 'spouse': 26, 'conflict': 27, 'director': 28, 'headquarters location': 29, 'father': 30, 'platform': 31, 'participant of': 32, 'located in or next to body of water': 33, 'owned by': 34, 'creator': 35, 'developer': 36, 'place of death': 37, 'languages spoken, written or signed': 38, 'follows': 39, 'league': 40, 'participant': 41, 'head of government': 42, 'employer': 43, 'location': 44, 'followed by': 45, 'characters': 46, 'award received': 47, 'legislative body': 48, 'publisher': 49, 'religion': 50, 'notable work': 51, 'original network': 52, 'screenwriter': 53, 'head of state': 54, 'series': 55, 'located on terrain feature': 56, 'producer': 57, 'official language': 58, 'military branch': 59, 'instance of': 60, 'mouth of the watercourse': 61, 'start time': 62, 'operator': 63, 'point in time': 64, 'founded by': 65, 'composer': 66, 'manufacturer': 67, 'parent organization': 68, 'work location': 69, 'capital': 70, 'dissolved, abolished or demolished': 71, 'subsidiary': 72, 'genre': 73, 'original language of work': 74, 'production company': 75, 'ethnic group': 76, 'basin country': 77, 'subclass of': 78, 'capital of': 79, 'parent taxon': 80, 'mother': 81, 'chairperson': 82, 'end time': 83, 'location of formation': 84, 'narrative location': 85, 'replaced by': 86, 'lyrics by': 87, 'territory claimed by': 88, 'product or material produced': 89, 'residence': 90, 'position held': 91, 'replaces': 92, 'influenced by': 93, 'sister city': 94, 'separated from': 95, 'unemployment rate': 96}\n",
    "info2rel = {'Na': 'Na', 'head of government': 'P6', 'country': 'P17', 'place of birth': 'P19', 'place of death': 'P20', 'father': 'P22', 'mother': 'P25', 'spouse': 'P26', 'country of citizenship': 'P27', 'continent': 'P30', 'instance of': 'P31', 'head of state': 'P35', 'capital': 'P36', 'official language': 'P37', 'position held': 'P39', 'child': 'P40', 'author': 'P50', 'member of sports team': 'P54', 'director': 'P57', 'screenwriter': 'P58', 'educated at': 'P69', 'composer': 'P86', 'member of political party': 'P102', 'employer': 'P108', 'founded by': 'P112', 'league': 'P118', 'publisher': 'P123', 'owned by': 'P127', 'located in the administrative territorial entity': 'P131', 'genre': 'P136', 'operator': 'P137', 'religion': 'P140', 'contains administrative territorial entity': 'P150', 'follows': 'P155', 'followed by': 'P156', 'headquarters location': 'P159', 'cast member': 'P161', 'producer': 'P162', 'award received': 'P166', 'creator': 'P170', 'parent taxon': 'P171', 'ethnic group': 'P172', 'performer': 'P175', 'manufacturer': 'P176', 'developer': 'P178', 'series': 'P179', 'sister city': 'P190', 'legislative body': 'P194', 'basin country': 'P205', 'located in or next to body of water': 'P206', 'military branch': 'P241', 'record label': 'P264', 'production company': 'P272', 'location': 'P276', 'subclass of': 'P279', 'subsidiary': 'P355', 'part of': 'P361', 'original language of work': 'P364', 'platform': 'P400', 'mouth of the watercourse': 'P403', 'original network': 'P449', 'member of': 'P463', 'chairperson': 'P488', 'country of origin': 'P495', 'has part': 'P527', 'residence': 'P551', 'date of birth': 'P569', 'date of death': 'P570', 'inception': 'P571', 'dissolved, abolished or demolished': 'P576', 'publication date': 'P577', 'start time': 'P580', 'end time': 'P582', 'point in time': 'P585', 'conflict': 'P607', 'characters': 'P674', 'lyrics by': 'P676', 'located on terrain feature': 'P706', 'participant': 'P710', 'influenced by': 'P737', 'location of formation': 'P740', 'parent organization': 'P749', 'notable work': 'P800', 'separated from': 'P807', 'narrative location': 'P840', 'work location': 'P937', 'applies to jurisdiction': 'P1001', 'product or material produced': 'P1056', 'unemployment rate': 'P1198', 'territory claimed by': 'P1336', 'participant of': 'P1344', 'replaces': 'P1365', 'replaced by': 'P1366', 'capital of': 'P1376', 'languages spoken, written or signed': 'P1412', 'present in work': 'P1441', 'sibling': 'P3373'}\n",
    "\n",
    "type_relation = np.zeros([7,7,97])\n",
    "all_long = np.zeros([7,7])\n",
    "for doc in docs:\n",
    "    entitys = doc['vertexSet']\n",
    "    relations = doc['labels']\n",
    "    entity_type = []\n",
    "    for i,entity in enumerate(entitys):\n",
    "        entity_type.append(entity[0]['type'])\n",
    "    for relation in relations:\n",
    "        #print(type2id[entity_type[relation['h']]],type2id[entity_type[relation['t']]],rel2id[relation['r']])\n",
    "        type_relation[type2id[entity_type[relation['h']]]][type2id[entity_type[relation['t']]]]\\\n",
    "                     [rel2id[relation['r']]] += 1\n",
    "    for i,entity1 in enumerate(entitys):\n",
    "        for j ,enntity2 in enumerate(entitys):\n",
    "            all_long[type2id[entity_type[i]]][type2id[entity_type[j]]] += 1\n",
    "    \n",
    "    # for h in range(6):\n",
    "    #    for t in range(6):\n",
    "    #        type_relation[h][t][0] = all_long[h][t]-sum(type_relation[h][t])\n",
    "    \n"
   ]
  },
  {
   "cell_type": "code",
   "execution_count": 16,
   "metadata": {},
   "outputs": [
    {
     "name": "stdout",
     "output_type": "stream",
     "text": [
      "[0.000e+00 1.988e+03 4.020e+02 1.800e+01 2.300e+01 0.000e+00 0.000e+00\n",
      " 0.000e+00 1.000e+00 0.000e+00 0.000e+00 8.000e+00 8.000e+00 1.030e+02\n",
      " 0.000e+00 0.000e+00 0.000e+00 0.000e+00 4.000e+00 0.000e+00 0.000e+00\n",
      " 7.000e+00 0.000e+00 0.000e+00 2.490e+02 0.000e+00 0.000e+00 2.000e+00\n",
      " 0.000e+00 2.300e+02 0.000e+00 0.000e+00 0.000e+00 1.000e+00 1.000e+00\n",
      " 0.000e+00 0.000e+00 0.000e+00 0.000e+00 1.000e+00 3.000e+00 3.000e+00\n",
      " 0.000e+00 0.000e+00 1.000e+01 0.000e+00 0.000e+00 0.000e+00 0.000e+00\n",
      " 0.000e+00 1.000e+00 0.000e+00 0.000e+00 0.000e+00 0.000e+00 0.000e+00\n",
      " 2.000e+00 0.000e+00 0.000e+00 2.000e+00 1.000e+00 0.000e+00 0.000e+00\n",
      " 1.000e+00 0.000e+00 2.000e+00 0.000e+00 0.000e+00 0.000e+00 1.000e+00\n",
      " 2.000e+00 0.000e+00 3.000e+00 0.000e+00 0.000e+00 0.000e+00 0.000e+00\n",
      " 0.000e+00 1.000e+00 1.000e+00 0.000e+00 0.000e+00 0.000e+00 0.000e+00\n",
      " 5.400e+01 2.000e+00 1.000e+00 0.000e+00 0.000e+00 0.000e+00 1.000e+00\n",
      " 0.000e+00 0.000e+00 0.000e+00 0.000e+00 0.000e+00 0.000e+00]\n"
     ]
    }
   ],
   "source": [
    "# # print(type_relation.shape)#\n",
    "# type_relation_nor = np.zeros([7,7,97])\n",
    "# for h in range(6):\n",
    "#     for t in range(6):\n",
    "#         print(type_relation[h][t])\n",
    "        #type_relation_nor[h][t] = type_relation[h][t]/sum(type_relation[h][t]) if sum(type_relation[h][t]) else [1/97 for i in range(97)]\n",
    "        #print(type_relation_nor[h][t])\n",
    "print(type_relation[1][2])"
   ]
  },
  {
   "cell_type": "code",
   "execution_count": 17,
   "metadata": {},
   "outputs": [],
   "source": [
    "# entity type 1 和 entity type 2总和减去出现过的，即为NA的个数"
   ]
  }
 ],
 "metadata": {
  "kernelspec": {
   "display_name": "base",
   "language": "python",
   "name": "python3"
  },
  "language_info": {
   "codemirror_mode": {
    "name": "ipython",
    "version": 3
   },
   "file_extension": ".py",
   "mimetype": "text/x-python",
   "name": "python",
   "nbconvert_exporter": "python",
   "pygments_lexer": "ipython3",
   "version": "3.11.4"
  },
  "orig_nbformat": 4
 },
 "nbformat": 4,
 "nbformat_minor": 2
}
